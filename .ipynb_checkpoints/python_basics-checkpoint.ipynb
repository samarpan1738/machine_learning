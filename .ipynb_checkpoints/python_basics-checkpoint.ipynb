{
 "cells": [
  {
   "cell_type": "markdown",
   "metadata": {},
   "source": [
    "### Python Basics\n",
    "    -hello world\n",
    "    -Variables\n",
    "    -functions\n",
    "    -oops"
   ]
  },
  {
   "cell_type": "code",
   "execution_count": 1,
   "metadata": {},
   "outputs": [
    {
     "name": "stdout",
     "output_type": "stream",
     "text": [
      "Hello World\n"
     ]
    }
   ],
   "source": [
    "print(\"Hello World\")"
   ]
  },
  {
   "cell_type": "code",
   "execution_count": 11,
   "metadata": {},
   "outputs": [],
   "source": [
    "a=10\n",
    "b=5.5"
   ]
  },
  {
   "cell_type": "code",
   "execution_count": 3,
   "metadata": {},
   "outputs": [
    {
     "name": "stdout",
     "output_type": "stream",
     "text": [
      "10 5.5\n"
     ]
    }
   ],
   "source": [
    "print(a,b)"
   ]
  },
  {
   "cell_type": "code",
   "execution_count": 4,
   "metadata": {},
   "outputs": [
    {
     "name": "stdout",
     "output_type": "stream",
     "text": [
      "<class 'int'>\n"
     ]
    }
   ],
   "source": [
    "print(type(a))"
   ]
  },
  {
   "cell_type": "code",
   "execution_count": 5,
   "metadata": {},
   "outputs": [
    {
     "name": "stdout",
     "output_type": "stream",
     "text": [
      "<class 'float'>\n"
     ]
    }
   ],
   "source": [
    "print(type(b))"
   ]
  },
  {
   "cell_type": "code",
   "execution_count": 6,
   "metadata": {},
   "outputs": [
    {
     "data": {
      "text/plain": [
       "str"
      ]
     },
     "execution_count": 6,
     "metadata": {},
     "output_type": "execute_result"
    }
   ],
   "source": [
    "c= \"Hello World\"\n",
    "type(c)"
   ]
  },
  {
   "cell_type": "code",
   "execution_count": 7,
   "metadata": {},
   "outputs": [
    {
     "name": "stdout",
     "output_type": "stream",
     "text": [
      "<class 'complex'>\n"
     ]
    }
   ],
   "source": [
    "d=6+9j\n",
    "print(type(d))"
   ]
  },
  {
   "cell_type": "code",
   "execution_count": 8,
   "metadata": {},
   "outputs": [],
   "source": [
    "b=5"
   ]
  },
  {
   "cell_type": "code",
   "execution_count": 12,
   "metadata": {},
   "outputs": [
    {
     "name": "stdout",
     "output_type": "stream",
     "text": [
      "5.5\n"
     ]
    }
   ],
   "source": [
    "print(b)"
   ]
  },
  {
   "cell_type": "markdown",
   "metadata": {},
   "source": [
    "# Input and output"
   ]
  },
  {
   "cell_type": "code",
   "execution_count": 15,
   "metadata": {},
   "outputs": [
    {
     "name": "stdout",
     "output_type": "stream",
     "text": [
      "Enter ur name: Samarpan\n",
      "Hello Samarpan\n"
     ]
    }
   ],
   "source": [
    "name=input(\"Enter ur name: \")\n",
    "print(\"Hello\",end=' ')\n",
    "print(name)"
   ]
  },
  {
   "cell_type": "markdown",
   "metadata": {},
   "source": [
    "## Reading number ==>Type casting"
   ]
  },
  {
   "cell_type": "code",
   "execution_count": 17,
   "metadata": {},
   "outputs": [
    {
     "name": "stdout",
     "output_type": "stream",
     "text": [
      "Enter a number5\n",
      "5\n",
      "<class 'int'>\n",
      "Square of number is 25\n"
     ]
    }
   ],
   "source": [
    "a=int(input(\"Enter a number\"))\n",
    "print(a)\n",
    "print(type(a))\n",
    "print(\"Square of number is \"+ str(a*a))"
   ]
  },
  {
   "cell_type": "markdown",
   "metadata": {},
   "source": [
    "## More about Print function\n",
    "    -format\n",
    "    -end and sep"
   ]
  },
  {
   "cell_type": "code",
   "execution_count": 22,
   "metadata": {},
   "outputs": [
    {
     "name": "stdout",
     "output_type": "stream",
     "text": [
      "I_like_to_play_CS:GO\n"
     ]
    }
   ],
   "source": [
    "print(\"I\",\"like\",\"to\",\"play\",\"CS:GO\",sep='_')"
   ]
  },
  {
   "cell_type": "code",
   "execution_count": 26,
   "metadata": {},
   "outputs": [
    {
     "name": "stdout",
     "output_type": "stream",
     "text": [
      "5 6\n"
     ]
    }
   ],
   "source": [
    "a,b=5,6\n",
    "print(a,end=\" \")\n",
    "print(b)"
   ]
  },
  {
   "cell_type": "code",
   "execution_count": 24,
   "metadata": {},
   "outputs": [],
   "source": [
    "a=\"Indians\"\n",
    "b=\"Mangoes\""
   ]
  },
  {
   "cell_type": "code",
   "execution_count": 25,
   "metadata": {},
   "outputs": [
    {
     "name": "stdout",
     "output_type": "stream",
     "text": [
      "Indians loves Mangoes\n"
     ]
    }
   ],
   "source": [
    "print(\"{1} loves {0}\".format(b,a))"
   ]
  },
  {
   "cell_type": "code",
   "execution_count": 27,
   "metadata": {},
   "outputs": [
    {
     "name": "stdout",
     "output_type": "stream",
     "text": [
      "a=5,b=6\n"
     ]
    }
   ],
   "source": [
    "print(\"a=%d,b=%d\"%(a,b))"
   ]
  },
  {
   "cell_type": "markdown",
   "metadata": {},
   "source": [
    "## DataTypes\n",
    "    ==> Primitive\n",
    "        -int\n",
    "        -float\n",
    "        -str\n",
    "        -bool\n",
    "        -complex\n",
    "     ==> Advanced\n",
    "        -List\n",
    "        -Tuples\n",
    "        -Dictionaries\n",
    "        -Sets"
   ]
  },
  {
   "cell_type": "code",
   "execution_count": 28,
   "metadata": {},
   "outputs": [
    {
     "name": "stdout",
     "output_type": "stream",
     "text": [
      "3.3333\n"
     ]
    }
   ],
   "source": [
    "a=10\n",
    "b=3\n",
    "print(\"%0.4f\"%(a/b))"
   ]
  },
  {
   "cell_type": "markdown",
   "metadata": {},
   "source": [
    "## Comments\n",
    "    -Single Line --> #\n",
    "    -Multi Line  --> \"\"\"Comment\"\"\"\n",
    "                 --> Also used for Multi line strings"
   ]
  },
  {
   "cell_type": "markdown",
   "metadata": {},
   "source": [
    "# Operators-Airthmetic,Comparison,Compound Assignment,Logical\n",
    "// --> Floor Division\n",
    "    2. ** --> Power"
   ]
  },
  {
   "cell_type": "code",
   "execution_count": 31,
   "metadata": {},
   "outputs": [
    {
     "name": "stdout",
     "output_type": "stream",
     "text": [
      "True\n"
     ]
    }
   ],
   "source": [
    "raining=False\n",
    "temp=30\n",
    "\n",
    "outing=not raining and temp<40\n",
    "print(outing)"
   ]
  },
  {
   "cell_type": "markdown",
   "metadata": {},
   "source": [
    "## REVERSE LOOPS"
   ]
  },
  {
   "cell_type": "code",
   "execution_count": 6,
   "metadata": {},
   "outputs": [
    {
     "name": "stdout",
     "output_type": "stream",
     "text": [
      "10 8 6 4 2 "
     ]
    }
   ],
   "source": [
    "for i in range(10,1,-2):\n",
    "    print(i,end=\" \")"
   ]
  },
  {
   "cell_type": "markdown",
   "metadata": {},
   "source": [
    "# Range Slicing\n",
    "    -string[start:end+1]\n",
    "    -string[:]-Entire string"
   ]
  },
  {
   "cell_type": "markdown",
   "metadata": {},
   "source": [
    "## Membership-Finds whether a substring is present in a bigger string\n"
   ]
  },
  {
   "cell_type": "code",
   "execution_count": 7,
   "metadata": {},
   "outputs": [
    {
     "data": {
      "text/plain": [
       "True"
      ]
     },
     "execution_count": 7,
     "metadata": {},
     "output_type": "execute_result"
    }
   ],
   "source": [
    "a=\"Youtube\"\n",
    "b=\"tube\"\n",
    "\n",
    "b in a"
   ]
  },
  {
   "cell_type": "raw",
   "metadata": {},
   "source": [
    "# String inbuilt functions\n",
    "- lower()\n",
    "- upper()\n",
    "- split()\n",
    "- splitlines()\n",
    "- strip()\n",
    "- lstrip()\n",
    "- rstrip()\n",
    "- isdigit()\n",
    "- isalpha()\n",
    "- isalnum()\n",
    "- islower()\n",
    "- isupper()\n",
    "- isspace()\n",
    "- index(string)-Returns an exception if not found,Same optional params as find\n",
    "- str.replace(str1,str2)-Replaces str1 with str2 in str\n",
    "- count(str)-Counts occurences of str\n",
    "- capitalize()\n",
    "- title()\n",
    "## Find & Join\n",
    "- string1.find(string2)-returns the starting index of occurence of string2 in string1\n",
    "- rfind()-Does the same but in RTL direction\n",
    "- Both return -1 if not found\n",
    "- 2 optional parameters -->range of indexes in which we need to find\n",
    "- \"delimiter\".join(list)-Joins all items of list with specifies delimiter"
   ]
  },
  {
   "cell_type": "markdown",
   "metadata": {},
   "source": [
    "## List functions\n",
    "- append(value or list)\n",
    "- insert(pos,value) => I\n",
    "- remove(value)\n",
    "- del list[index]\n",
    "- pop()\n",
    "- list*n => Repeats list n times\n",
    "- value in list => Return True or False"
   ]
  },
  {
   "cell_type": "code",
   "execution_count": null,
   "metadata": {},
   "outputs": [],
   "source": []
  }
 ],
 "metadata": {
  "kernelspec": {
   "display_name": "Python 3",
   "language": "python",
   "name": "python3"
  },
  "language_info": {
   "codemirror_mode": {
    "name": "ipython",
    "version": 3
   },
   "file_extension": ".py",
   "mimetype": "text/x-python",
   "name": "python",
   "nbconvert_exporter": "python",
   "pygments_lexer": "ipython3",
   "version": "3.7.3"
  }
 },
 "nbformat": 4,
 "nbformat_minor": 2
}
